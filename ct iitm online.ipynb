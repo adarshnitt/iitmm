{
 "cells": [
  {
   "cell_type": "code",
   "execution_count": null,
   "metadata": {},
   "outputs": [],
   "source": [
    "# to find one hop\n",
    "train={train_1:[stat_1,.........stat_n],\n",
    "      train_2:[stat_1............stat_n]\n",
    "      .....\n",
    "      train_n:[stat_1........stat_n]}"
   ]
  },
  {
   "cell_type": "code",
   "execution_count": null,
   "metadata": {},
   "outputs": [],
   "source": [
    "#task_1........select stations\n",
    "stations={}\n",
    "for i in keys(train):\n",
    "    stations[train[i][start]]=True\n",
    "    stations[train[i][end]]=True\n",
    "    \n",
    "    \n",
    "    \n",
    "stations={stat_1:True,\n",
    "         stat_2:True\n",
    "         ....\n",
    "         stat_n=True}"
   ]
  },
  {
   "cell_type": "code",
   "execution_count": null,
   "metadata": {},
   "outputs": [],
   "source": [
    "direct_len=len(keys(stations))\n",
    "direct=creatematrix(direct_len)\n",
    "\n",
    "\n",
    "#to mae indexing in stations \n",
    "station_index={}\n",
    "i=0\n",
    "for j in keys(stations):\n",
    "    station_index[station[j]]=i\n",
    "    i=i+1\n",
    "    \n",
    "station_index={stat_1:1,\n",
    "              stat_2:2\n",
    "              ...........\n",
    "              stat_n:n}\n",
    "for i in keys(train):\n",
    "    x=station_index[tarin[i][start]]\n",
    "    y=stationa_inedx[tarin[i][end]]\n",
    "    direct[x][y]=1    \n",
    "\n"
   ]
  },
  {
   "cell_type": "code",
   "execution_count": null,
   "metadata": {},
   "outputs": [],
   "source": []
  },
  {
   "cell_type": "code",
   "execution_count": 1,
   "metadata": {},
   "outputs": [
    {
     "ename": "SyntaxError",
     "evalue": "invalid syntax (<ipython-input-1-b984ba590dfa>, line 1)",
     "output_type": "error",
     "traceback": [
      "\u001b[1;36m  File \u001b[1;32m\"<ipython-input-1-b984ba590dfa>\"\u001b[1;36m, line \u001b[1;32m1\u001b[0m\n\u001b[1;33m    procedure  onehop(direct):\u001b[0m\n\u001b[1;37m               ^\u001b[0m\n\u001b[1;31mSyntaxError\u001b[0m\u001b[1;31m:\u001b[0m invalid syntax\n"
     ]
    }
   ],
   "source": [
    "procedure  onehop(direct):\n",
    "    l=len(keys(direct))\n",
    "    onehop=creatematrix(l,l)\n",
    "    for i in rows(direct):\n",
    "        for j in columns(direct):\n",
    "            onehop[i][j]=direct[i][j]\n",
    "            for k in columns(direct):\n",
    "                if (direct[i][k]==1 & direct[k][j]==1):\n",
    "                    onehop[i][j]==1\n",
    "                    "
   ]
  },
  {
   "cell_type": "code",
   "execution_count": null,
   "metadata": {},
   "outputs": [],
   "source": [
    "procedure twohop(direct,onehop):\n",
    "    n=len(keys(direct))\n",
    "    twohop=creatematrix(n,n)\n",
    "    for i in rows(direct):\n",
    "        for j in columns(direct):\n",
    "            twoloop[i][j]=direct[i][j]\n",
    "            for k in columns(direct):\n",
    "                if(direct[i][k]==1 and direct[k][j]):\n",
    "                    twohop[i][j]=1\n",
    "                    \n",
    "            return  twohoop\n",
    "        \n",
    "    "
   ]
  },
  {
   "cell_type": "code",
   "execution_count": null,
   "metadata": {},
   "outputs": [],
   "source": [
    ":\n",
    "    "
   ]
  }
 ],
 "metadata": {
  "kernelspec": {
   "display_name": "Python 3",
   "language": "python",
   "name": "python3"
  },
  "language_info": {
   "codemirror_mode": {
    "name": "ipython",
    "version": 3
   },
   "file_extension": ".py",
   "mimetype": "text/x-python",
   "name": "python",
   "nbconvert_exporter": "python",
   "pygments_lexer": "ipython3",
   "version": "3.9.1"
  }
 },
 "nbformat": 4,
 "nbformat_minor": 4
}
